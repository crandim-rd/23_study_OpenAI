{
 "cells": [
  {
   "cell_type": "code",
   "execution_count": 24,
   "id": "initial_id",
   "metadata": {
    "collapsed": true,
    "ExecuteTime": {
     "end_time": "2023-10-07T11:05:21.661978500Z",
     "start_time": "2023-10-07T11:05:21.656471700Z"
    }
   },
   "outputs": [],
   "source": [
    "from typing import Dict, List, Optional\n",
    "import openai\n",
    "\n",
    "\n",
    "def token_usage_for(prompt: str, functions: List[Dict]):\n",
    "    if functions:\n",
    "        response = openai.ChatCompletion.create(\n",
    "            model='gpt-3.5-turbo-0613',\n",
    "            messages=[{'role': 'user', 'content': prompt}],\n",
    "            functions=functions\n",
    "        )\n",
    "    else:\n",
    "        response = openai.ChatCompletion.create(\n",
    "            model='gpt-3.5-turbo-0613',\n",
    "            messages=[{'role': 'user', 'content': prompt}],\n",
    "        )\n",
    "    return response['usage']['prompt_tokens']\n"
   ]
  },
  {
   "cell_type": "code",
   "execution_count": 25,
   "outputs": [
    {
     "data": {
      "text/plain": "'with functions parameter'"
     },
     "metadata": {},
     "output_type": "display_data"
    },
    {
     "data": {
      "text/plain": "91"
     },
     "metadata": {},
     "output_type": "display_data"
    }
   ],
   "source": [
    "u = token_usage_for(prompt=\"フィボナッチ数列の最初の数は何？\",\n",
    "                    functions=[\n",
    "                        {\n",
    "                            \"name\": \"get_current_weather\",\n",
    "                            \"description\": \"Get the current weather in a given location\",\n",
    "                            \"parameters\": {\n",
    "                                \"type\": \"object\",\n",
    "                                \"properties\": {\n",
    "                                    \"location\": {\n",
    "                                        \"type\": \"string\",\n",
    "                                        \"description\": \"The city and state, e.g. San Francisco, CA\",\n",
    "                                    },\n",
    "                                    \"unit\": {\"type\": \"string\", \"enum\": [\"celsius\", \"fahrenheit\"]},\n",
    "                                },\n",
    "                                \"required\": [\"location\"],\n",
    "                            },\n",
    "                        }\n",
    "                    ])\n",
    "\n",
    "display('with functions parameter', u)\n"
   ],
   "metadata": {
    "collapsed": false,
    "ExecuteTime": {
     "end_time": "2023-10-07T11:05:26.995264500Z",
     "start_time": "2023-10-07T11:05:25.998605400Z"
    }
   },
   "id": "25af7d5114a7751f"
  },
  {
   "cell_type": "code",
   "execution_count": 26,
   "outputs": [
    {
     "data": {
      "text/plain": "'without functions parameter'"
     },
     "metadata": {},
     "output_type": "display_data"
    },
    {
     "data": {
      "text/plain": "24"
     },
     "metadata": {},
     "output_type": "display_data"
    }
   ],
   "source": [
    "u = token_usage_for(prompt=\"フィボナッチ数列の最初の数は何？\", functions=list())\n",
    "\n",
    "display('without functions parameter', u)\n"
   ],
   "metadata": {
    "collapsed": false,
    "ExecuteTime": {
     "end_time": "2023-10-07T11:05:30.246482800Z",
     "start_time": "2023-10-07T11:05:29.128318300Z"
    }
   },
   "id": "ba05d57df6ef9291"
  }
 ],
 "metadata": {
  "kernelspec": {
   "display_name": "Python 3",
   "language": "python",
   "name": "python3"
  },
  "language_info": {
   "codemirror_mode": {
    "name": "ipython",
    "version": 2
   },
   "file_extension": ".py",
   "mimetype": "text/x-python",
   "name": "python",
   "nbconvert_exporter": "python",
   "pygments_lexer": "ipython2",
   "version": "2.7.6"
  }
 },
 "nbformat": 4,
 "nbformat_minor": 5
}
